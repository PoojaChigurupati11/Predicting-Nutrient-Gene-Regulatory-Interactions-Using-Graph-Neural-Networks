{
 "cells": [
  {
   "cell_type": "code",
   "id": "7a8769d4a833e41",
   "metadata": {
    "ExecuteTime": {
     "end_time": "2025-07-13T22:03:07.895829Z",
     "start_time": "2025-07-13T22:03:07.885502Z"
    }
   },
   "source": [
    "import pandas as pd\n",
    "import numpy as np\n",
    "pd.set_option('display.max_columns', None)\n",
    "import pandas as pd\n",
    "import torch\n",
    "import random"
   ],
   "outputs": [],
   "execution_count": 41
  },
  {
   "metadata": {},
   "cell_type": "markdown",
   "source": "### Predicting Nutrient–Gene Regulatory Interactions Using Graph Neural Networks",
   "id": "6764bc85bdf9f50b"
  },
  {
   "cell_type": "code",
   "id": "4ed1941dde25dac0",
   "metadata": {
    "ExecuteTime": {
     "end_time": "2025-07-12T23:22:03.526614Z",
     "start_time": "2025-07-12T23:22:02.692445Z"
    }
   },
   "source": [
    "if torch.backends.mps.is_available():\n",
    "    device = torch.device(\"mps\")\n",
    "    print(\"Using M3 GPU (MPS)\")\n",
    "else:\n",
    "    device = torch.device(\"cpu\")\n",
    "    print(\"Falling back to CPU\")\n"
   ],
   "outputs": [
    {
     "name": "stdout",
     "output_type": "stream",
     "text": [
      "Using M3 GPU (MPS)\n"
     ]
    }
   ],
   "execution_count": 2
  },
  {
   "cell_type": "code",
   "id": "f1bf032ccde15085",
   "metadata": {
    "ExecuteTime": {
     "end_time": "2025-07-12T23:22:03.593664Z",
     "start_time": "2025-07-12T23:22:03.591838Z"
    }
   },
   "source": [
    "column_names = [\n",
    "    'ChemicalName',\n",
    "    'ChemicalID',\n",
    "    'CasRN',  # To be removed later\n",
    "    'GeneSymbol',\n",
    "    'GeneID',\n",
    "    'GeneForms',\n",
    "    'Organism',\n",
    "    'OrganismID',\n",
    "    'Interaction',\n",
    "    'InteractionActions',\n",
    "    'PubMedIDs'\n",
    "]"
   ],
   "outputs": [],
   "execution_count": 3
  },
  {
   "cell_type": "code",
   "id": "d69e692fb230e29",
   "metadata": {
    "ExecuteTime": {
     "end_time": "2025-07-12T23:22:07.382610Z",
     "start_time": "2025-07-12T23:22:03.678878Z"
    }
   },
   "source": [
    "chem_gene = pd.read_csv('CTD_chem_gene_ixns.tsv',sep='\\t',comment='#', skiprows=7,header=None, names=column_names)\n",
    "hmdb = pd.read_xml('hmdb_metabolites.xml',parser='lxml')\n",
    "E_BioMart=pd.read_csv('mart_export.txt', sep=',')\n"
   ],
   "outputs": [],
   "execution_count": 4
  },
  {
   "cell_type": "code",
   "id": "9ee965fc5702139",
   "metadata": {
    "ExecuteTime": {
     "end_time": "2025-07-12T23:33:11.532098Z",
     "start_time": "2025-07-12T23:33:09.142815Z"
    }
   },
   "source": [
    "# Filter for human genes only\n",
    "chem_gene = chem_gene[chem_gene[\"Organism\"] == \"Homo sapiens\"]\n",
    "\n",
    "# # Keep only expression-related interactions (regulatory)\n",
    "chem_gene = chem_gene[chem_gene[\"InteractionActions\"].str.contains(\"expression\", na=False)]\n",
    "chem_gene.dropna()\n",
    "chem_gene = chem_gene[[\"ChemicalName\", \"GeneSymbol\"]].drop_duplicates()\n",
    "# Standardize formatting\n",
    "chem_gene[\"ChemicalName\"] = chem_gene[\"ChemicalName\"].str.strip().str.upper()\n",
    "chem_gene[\"GeneSymbol\"] = chem_gene[\"GeneSymbol\"].str.strip().str.upper()"
   ],
   "outputs": [],
   "execution_count": 9
  },
  {
   "cell_type": "code",
   "id": "f1d988b04f4337b1",
   "metadata": {},
   "source": [
    "#Select only relevant columns\n",
    "nutrients_df = hmdb[[\"accession\", \"name\", \"chemical_formula\", \"average_molecular_weight\", \"taxonomy\"]]\n",
    "nutrients_df[\"name\"] = nutrients_df[\"name\"].str.strip().str.upper()\n",
    "\n",
    "nutrients_df.dropna(subset=[\"name\"], inplace=True)\n",
    "nutrients_df.drop_duplicates(subset=[\"name\"], inplace=True)"
   ],
   "outputs": [],
   "execution_count": null
  },
  {
   "cell_type": "code",
   "id": "945406bdec3b27c9",
   "metadata": {
    "ExecuteTime": {
     "end_time": "2025-07-12T23:33:11.831746Z",
     "start_time": "2025-07-12T23:33:11.791406Z"
    }
   },
   "source": [
    "E_BioMart = E_BioMart[E_BioMart[\"HGNC symbol\"].notna()]\n"
   ],
   "outputs": [],
   "execution_count": 14
  },
  {
   "cell_type": "code",
   "id": "b544c5c0f4cfb3fa",
   "metadata": {
    "ExecuteTime": {
     "end_time": "2025-07-12T23:33:11.914199Z",
     "start_time": "2025-07-12T23:33:11.835914Z"
    }
   },
   "source": [
    "# Clean gene symbols\n",
    "E_BioMart[\"HGNC symbol\"] = E_BioMart[\"HGNC symbol\"].str.strip().str.upper()\n",
    "E_BioMart = E_BioMart.drop_duplicates(subset=[\"HGNC symbol\"])\n"
   ],
   "outputs": [],
   "execution_count": 15
  },
  {
   "cell_type": "code",
   "id": "2abd2cf862e913f7",
   "metadata": {
    "ExecuteTime": {
     "end_time": "2025-07-12T23:33:11.941138Z",
     "start_time": "2025-07-12T23:33:11.919155Z"
    }
   },
   "source": [
    "cleaned_genes = E_BioMart[[\"HGNC symbol\", \"Gene description\"]]\n",
    "cleaned_genes.columns = [\"GeneSymbol\", \"GeneDescription\"]\n",
    "# Define standard chromosomes\n",
    "standard_chroms = [str(i) for i in range(1, 23)] + ['X', 'Y', 'MT']\n",
    "\n",
    "# Filter BioMart for only standard chromosomes\n",
    "E_BioMart = E_BioMart[E_BioMart[\"Chromosome/scaffold name\"].isin(standard_chroms)]\n",
    "E_BioMart = E_BioMart.dropna(subset=[\"Chromosome/scaffold name\"])\n",
    "\n"
   ],
   "outputs": [],
   "execution_count": 16
  },
  {
   "cell_type": "code",
   "id": "f31d5e1771f3b2a0",
   "metadata": {
    "ExecuteTime": {
     "end_time": "2025-07-12T23:33:11.950113Z",
     "start_time": "2025-07-12T23:33:11.945789Z"
    }
   },
   "source": [
    "# e.g., convert chromosome to categorical features later\n",
    "cleaned_genes[\"Chromosome\"] = E_BioMart[\"Chromosome/scaffold name\"]"
   ],
   "outputs": [],
   "execution_count": 17
  },
  {
   "cell_type": "code",
   "id": "2e8faadf09530513",
   "metadata": {
    "ExecuteTime": {
     "end_time": "2025-07-12T23:33:11.958701Z",
     "start_time": "2025-07-12T23:33:11.954995Z"
    }
   },
   "source": [
    "cleaned_genes['Chromosome'].unique()"
   ],
   "outputs": [
    {
     "data": {
      "text/plain": [
       "array(['MT', nan, 'Y', '21', '13', '18', '22', '20', 'X', '15', '8', '10',\n",
       "       '14', '9', '4', '16', '5', '19', '7', '6', '12', '11', '17', '3',\n",
       "       '1', '2'], dtype=object)"
      ]
     },
     "execution_count": 18,
     "metadata": {},
     "output_type": "execute_result"
    }
   ],
   "execution_count": 18
  },
  {
   "cell_type": "code",
   "id": "d0563d9ae5efc5d7",
   "metadata": {
    "ExecuteTime": {
     "end_time": "2025-07-12T23:33:12.138242Z",
     "start_time": "2025-07-12T23:33:11.965575Z"
    }
   },
   "source": [
    "# Step 1: Join CTD gene info with gene metadata (BioMart)\n",
    "ctd_gene_enriched = pd.merge(\n",
    "    chem_gene,                      # from CTD\n",
    "    cleaned_genes,           # from BioMart\n",
    "    how='inner',\n",
    "    on='GeneSymbol'          # already uppercased\n",
    ")\n"
   ],
   "outputs": [],
   "execution_count": 19
  },
  {
   "cell_type": "code",
   "id": "b25bec61f576cbb2",
   "metadata": {},
   "source": [
    "# Standardize chemical names to match CTD format\n",
    "nutrients_df[\"name\"] = nutrients_df[\"name\"].str.strip().str.upper()\n",
    "\n",
    "nutrients_df = nutrients_df.drop_duplicates(subset=[\"name\"])\n",
    "chemicals_with_nutrients = pd.merge(\n",
    "    ctd_gene_enriched,\n",
    "    nutrients_df,\n",
    "    how='inner',\n",
    "    left_on=\"ChemicalName\",\n",
    "    right_on=\"name\"\n",
    ")\n"
   ],
   "outputs": [],
   "execution_count": null
  },
  {
   "cell_type": "code",
   "id": "c4c05756a3559c97",
   "metadata": {
    "ExecuteTime": {
     "end_time": "2025-07-12T23:33:13.585659Z",
     "start_time": "2025-07-12T23:33:12.400532Z"
    }
   },
   "source": [
    "from sklearn.preprocessing import LabelEncoder\n",
    "\n",
    "chemical_le = LabelEncoder()\n",
    "gene_le = LabelEncoder()\n",
    "\n",
    "chem_ids = chemical_le.fit_transform(chem_gene[\"ChemicalName\"])\n",
    "gene_ids = gene_le.fit_transform(chem_gene[\"GeneSymbol\"])\n"
   ],
   "outputs": [],
   "execution_count": 23
  },
  {
   "cell_type": "code",
   "id": "6ba96d79342b4146",
   "metadata": {},
   "source": [
    "num_nutrients = len(chemical_le.classes_)\n",
    "gene_ids_offset = gene_ids + num_nutrients\n",
    "\n",
    "\n",
    "edge_index = torch.tensor([chem_ids, gene_ids_offset], dtype=torch.long)\n"
   ],
   "outputs": [],
   "execution_count": null
  },
  {
   "cell_type": "code",
   "id": "7bcfdbd7f2edcda3",
   "metadata": {
    "ExecuteTime": {
     "end_time": "2025-07-12T23:33:14.045878Z",
     "start_time": "2025-07-12T23:33:13.709562Z"
    }
   },
   "source": [
    "total_nodes = num_nutrients + len(gene_le.classes_)\n",
    "x = torch.eye(total_nodes)  # identity matrix as node features\n"
   ],
   "outputs": [],
   "execution_count": 25
  },
  {
   "cell_type": "code",
   "id": "2823823fe4f1ba8e",
   "metadata": {
    "ExecuteTime": {
     "end_time": "2025-07-12T23:33:15.132124Z",
     "start_time": "2025-07-12T23:33:14.049736Z"
    }
   },
   "source": [
    "from torch_geometric.data import Data\n",
    "\n",
    "data = Data(x=x, edge_index=edge_index)\n"
   ],
   "outputs": [],
   "execution_count": 26
  },
  {
   "cell_type": "code",
   "id": "d84bc08800935bfd",
   "metadata": {
    "ExecuteTime": {
     "end_time": "2025-07-12T23:33:15.138198Z",
     "start_time": "2025-07-12T23:33:15.135528Z"
    }
   },
   "source": [
    "positive_edges = edge_index.T  # shape: [num_edges, 2]\n"
   ],
   "outputs": [],
   "execution_count": 27
  },
  {
   "metadata": {},
   "cell_type": "code",
   "outputs": [],
   "execution_count": 28,
   "source": [
    "num_neg = positive_edges.shape[0]\n",
    "negative_edges = set()\n",
    "\n",
    "positive_edge_set = set(map(tuple, positive_edges.tolist()))\n",
    "\n",
    "while len(negative_edges) < num_neg:\n",
    "    c = random.randint(0, num_nutrients - 1)\n",
    "    g = random.randint(num_nutrients, total_nodes - 1)\n",
    "    if (c, g) not in positive_edge_set:\n",
    "        negative_edges.add((c, g))\n",
    "\n",
    "negative_edges = torch.tensor(list(negative_edges), dtype=torch.long)\n"
   ],
   "id": "a6eccbe57d79ac36"
  },
  {
   "metadata": {},
   "cell_type": "code",
   "outputs": [],
   "execution_count": 29,
   "source": [
    "# Combine edges\n",
    "all_edges = torch.cat([positive_edges, negative_edges], dim=0)\n",
    "\n",
    "# Labels: 1 for positive, 0 for negative\n",
    "labels = torch.cat([\n",
    "    torch.ones(positive_edges.shape[0]),\n",
    "    torch.zeros(negative_edges.shape[0])\n",
    "]).long()\n"
   ],
   "id": "41c9525eb7212ab6"
  },
  {
   "metadata": {},
   "cell_type": "code",
   "outputs": [],
   "execution_count": 30,
   "source": [
    "from sklearn.model_selection import train_test_split\n",
    "\n",
    "train_edges, test_edges, train_labels, test_labels = train_test_split(\n",
    "    all_edges, labels, test_size=0.2, random_state=42\n",
    ")\n"
   ],
   "id": "e06df82c5d3f1c75"
  },
  {
   "metadata": {},
   "cell_type": "code",
   "outputs": [],
   "execution_count": 31,
   "source": [
    "import torch.nn.functional as F\n",
    "from torch_geometric.nn import GCNConv\n",
    "\n",
    "class GCNLinkPredictor(torch.nn.Module):\n",
    "    def __init__(self, num_nodes, hidden_dim=64):\n",
    "        super().__init__()\n",
    "        self.embedding = torch.nn.Embedding(num_nodes, hidden_dim)\n",
    "        self.conv1 = GCNConv(hidden_dim, hidden_dim)\n",
    "        self.conv2 = GCNConv(hidden_dim, hidden_dim)\n",
    "        self.link_predictor = torch.nn.Sequential(\n",
    "            torch.nn.Linear(hidden_dim * 2, hidden_dim),\n",
    "            torch.nn.ReLU(),\n",
    "            torch.nn.Linear(hidden_dim, 1)\n",
    "        )\n",
    "\n",
    "    def forward(self, data, edge_index):\n",
    "        x = self.embedding.weight\n",
    "        x = self.conv1(x, data.edge_index).relu()\n",
    "        x = self.conv2(x, data.edge_index).relu()\n",
    "        return x\n",
    "\n",
    "    def predict(self, x, edge_pairs):\n",
    "        h1 = x[edge_pairs[:, 0]]\n",
    "        h2 = x[edge_pairs[:, 1]]\n",
    "        return torch.sigmoid(self.link_predictor(torch.cat([h1, h2], dim=1))).squeeze()\n"
   ],
   "id": "2ceb91367b5db792"
  },
  {
   "metadata": {},
   "cell_type": "code",
   "outputs": [
    {
     "name": "stdout",
     "output_type": "stream",
     "text": [
      "Epoch 10: Train Loss = 0.6049, Test Loss = 0.5936, Test Acc = 0.7381\n",
      "Epoch 20: Train Loss = 0.3912, Test Loss = 0.3890, Test Acc = 0.8440\n",
      "Epoch 30: Train Loss = 0.2108, Test Loss = 0.2103, Test Acc = 0.9218\n",
      "Epoch 40: Train Loss = 0.1554, Test Loss = 0.1581, Test Acc = 0.9444\n",
      "Epoch 50: Train Loss = 0.1404, Test Loss = 0.1445, Test Acc = 0.9493\n",
      "Epoch 60: Train Loss = 0.1360, Test Loss = 0.1404, Test Acc = 0.9504\n",
      "Epoch 70: Train Loss = 0.1343, Test Loss = 0.1391, Test Acc = 0.9499\n",
      "Epoch 80: Train Loss = 0.1331, Test Loss = 0.1414, Test Acc = 0.9510\n",
      "Epoch 90: Train Loss = 0.1331, Test Loss = 0.1383, Test Acc = 0.9512\n",
      "Epoch 100: Train Loss = 0.1287, Test Loss = 0.1363, Test Acc = 0.9509\n"
     ]
    }
   ],
   "execution_count": 32,
   "source": [
    "\n",
    "model = GCNLinkPredictor(num_nodes=total_nodes).to(device)\n",
    "data = data.to(device)\n",
    "optimizer = torch.optim.Adam(model.parameters(), lr=0.01)\n",
    "loss_fn = torch.nn.BCELoss()\n",
    "\n",
    "train_edges = train_edges.to(device)\n",
    "train_labels = train_labels.to(device)\n",
    "test_edges = test_edges.to(device)\n",
    "test_labels = test_labels.to(device)\n",
    "\n",
    "for epoch in range(1, 101):\n",
    "    model.train()\n",
    "    optimizer.zero_grad()\n",
    "    x = model(data, data.edge_index)\n",
    "    pred = model.predict(x, train_edges)\n",
    "    loss = loss_fn(pred, train_labels.float())\n",
    "    loss.backward()\n",
    "    optimizer.step()\n",
    "\n",
    "    if epoch % 10 == 0:\n",
    "        with torch.no_grad():\n",
    "            model.eval()\n",
    "            test_pred = model.predict(x, test_edges)\n",
    "            test_loss = loss_fn(test_pred, test_labels.float()).item()\n",
    "            test_acc = ((test_pred > 0.5) == test_labels).float().mean().item()\n",
    "            print(f\"Epoch {epoch}: Train Loss = {loss.item():.4f}, Test Loss = {test_loss:.4f}, Test Acc = {test_acc:.4f}\")\n"
   ],
   "id": "6aaf1a651287cfa6"
  },
  {
   "metadata": {},
   "cell_type": "code",
   "outputs": [
    {
     "name": "stdout",
     "output_type": "stream",
     "text": [
      "\n",
      "Final Test Loss: 0.1375\n",
      "Final Test Accuracy: 0.9501\n"
     ]
    }
   ],
   "execution_count": 33,
   "source": [
    "model.eval()\n",
    "with torch.no_grad():\n",
    "    x = model(data, data.edge_index)\n",
    "    test_pred = model.predict(x, test_edges)\n",
    "    test_loss = loss_fn(test_pred, test_labels.float()).item()\n",
    "    test_acc = ((test_pred > 0.5) == test_labels).float().mean().item()\n",
    "\n",
    "print(f\"\\nFinal Test Loss: {test_loss:.4f}\")\n",
    "print(f\"Final Test Accuracy: {test_acc:.4f}\")\n"
   ],
   "id": "1caeadb6fa84c01c"
  },
  {
   "metadata": {},
   "cell_type": "code",
   "outputs": [
    {
     "name": "stdout",
     "output_type": "stream",
     "text": [
      "Test ROC-AUC: 0.9867\n"
     ]
    }
   ],
   "execution_count": 34,
   "source": [
    "from sklearn.metrics import roc_auc_score\n",
    "\n",
    "test_pred_np = test_pred.cpu().numpy()\n",
    "test_labels_np = test_labels.cpu().numpy()\n",
    "auc = roc_auc_score(test_labels_np, test_pred_np)\n",
    "print(f\"Test ROC-AUC: {auc:.4f}\")\n"
   ],
   "id": "6f850dd5ad3c9c52"
  },
  {
   "metadata": {
    "ExecuteTime": {
     "start_time": "2025-07-12T20:51:41.940357Z"
    }
   },
   "cell_type": "code",
   "source": [
    "# # Define all possible nutrient-gene combinations\n",
    "# all_possible = set((i, j) for i in range(num_nutrients) for j in range(num_nutrients, total_nodes))\n",
    "#\n",
    "# # Remove known (training + testing) edges\n",
    "# known = set(map(tuple, all_edges.tolist()))\n",
    "# unknown = list(all_possible - known)\n"
   ],
   "id": "a9f3393810f9a506",
   "outputs": [],
   "execution_count": null
  },
  {
   "metadata": {},
   "cell_type": "markdown",
   "source": "### To generate a random sample of negative edges  nutrient–gene pairs that are not known to interact in the training/testing data . so we can  test the model’s ability to predict unknown or “novel” interactions.",
   "id": "7b29252f2c1b2cb2"
  },
  {
   "metadata": {},
   "cell_type": "code",
   "outputs": [],
   "execution_count": 35,
   "source": [
    "\n",
    "sample_size = 10000\n",
    "unknown = set()\n",
    "\n",
    "positive_set = set(map(tuple, all_edges.tolist()))\n",
    "\n",
    "while len(unknown) < sample_size:\n",
    "    c = random.randint(0, num_nutrients - 1)\n",
    "    g = random.randint(num_nutrients, total_nodes - 1)\n",
    "    if (c, g) not in positive_set:\n",
    "        unknown.add((c, g))\n",
    "\n",
    "unknown = list(unknown)\n"
   ],
   "id": "29ef48acf03ddcd7"
  },
  {
   "metadata": {},
   "cell_type": "markdown",
   "source": "### to predict which new (unknown) nutrient–gene pairs might be true interactions — even though they've never been seen during training.",
   "id": "630ad0575773bd7a"
  },
  {
   "cell_type": "code",
   "id": "d0a39ce79aa841b0",
   "metadata": {
    "ExecuteTime": {
     "end_time": "2025-07-12T23:38:33.168769Z",
     "start_time": "2025-07-12T23:38:32.329339Z"
    }
   },
   "source": [
    "\n",
    "if len(unknown) > sample_size:\n",
    "    unknown = random.sample(unknown, sample_size)\n",
    "\n",
    "\n",
    "unknown_tensor = torch.tensor(unknown, dtype=torch.long)\n",
    "\n",
    "# Get node embeddings once\n",
    "with torch.no_grad():\n",
    "    model.eval()\n",
    "    node_reps = model(data, data.edge_index).cpu()\n",
    "\n",
    "# Predict in batches\n",
    "batch_size = 10000\n",
    "scores = []\n",
    "\n",
    "for i in range(0, len(unknown), batch_size):\n",
    "    batch_edges = unknown_tensor[i:i+batch_size].to(device)\n",
    "    batch_scores = model.predict(node_reps.to(device), batch_edges)\n",
    "    scores.append(batch_scores.cpu())\n",
    "\n",
    "scores = torch.cat(scores, dim=0)\n",
    "\n",
    "# Top-K\n",
    "topk = 100\n",
    "top_scores, top_indices = torch.topk(scores, topk)\n",
    "top_predictions = [unknown[i] for i in top_indices.numpy()]\n"
   ],
   "outputs": [],
   "execution_count": 37
  },
  {
   "metadata": {
    "ExecuteTime": {
     "end_time": "2025-07-13T21:19:43.036701Z",
     "start_time": "2025-07-13T21:19:43.020782Z"
    }
   },
   "cell_type": "code",
   "source": "top_predictions",
   "id": "d4e85ab3e8554549",
   "outputs": [
    {
     "data": {
      "text/plain": [
       "[(5770, 15772),\n",
       " (2384, 12758),\n",
       " (2344, 9043),\n",
       " (3282, 12642),\n",
       " (3784, 9049),\n",
       " (5878, 11053),\n",
       " (1661, 14556),\n",
       " (5346, 21430),\n",
       " (4019, 21007),\n",
       " (970, 21430),\n",
       " (1444, 14556),\n",
       " (1477, 8294),\n",
       " (5549, 15321),\n",
       " (2794, 8152),\n",
       " (6115, 15987),\n",
       " (1368, 26934),\n",
       " (1412, 7977),\n",
       " (5375, 16994),\n",
       " (2513, 10725),\n",
       " (1060, 10972),\n",
       " (2250, 18621),\n",
       " (4085, 10625),\n",
       " (1418, 23410),\n",
       " (1493, 19238),\n",
       " (5555, 11731),\n",
       " (3686, 16742),\n",
       " (5555, 16825),\n",
       " (5346, 16604),\n",
       " (1468, 31122),\n",
       " (5490, 29408),\n",
       " (4593, 9000),\n",
       " (1368, 23975),\n",
       " (1477, 30393),\n",
       " (4226, 11038),\n",
       " (1661, 15714),\n",
       " (5581, 7435),\n",
       " (6131, 31430),\n",
       " (5375, 12761),\n",
       " (1853, 11649),\n",
       " (5549, 7702),\n",
       " (4748, 27123),\n",
       " (2513, 12244),\n",
       " (4805, 20985),\n",
       " (4038, 31821),\n",
       " (174, 24090),\n",
       " (5922, 24358),\n",
       " (1838, 7268),\n",
       " (1042, 11205),\n",
       " (4593, 31787),\n",
       " (3941, 28562),\n",
       " (3495, 25573),\n",
       " (5980, 8156),\n",
       " (615, 29087),\n",
       " (2868, 9545),\n",
       " (2262, 13154),\n",
       " (743, 12339),\n",
       " (1853, 25115),\n",
       " (5922, 30876),\n",
       " (4810, 29408),\n",
       " (1444, 32031),\n",
       " (743, 14671),\n",
       " (1853, 31803),\n",
       " (1853, 27483),\n",
       " (5807, 15194),\n",
       " (3673, 12669),\n",
       " (6152, 6830),\n",
       " (3093, 30390),\n",
       " (1588, 33603),\n",
       " (5521, 10749),\n",
       " (4450, 7993),\n",
       " (5549, 29890),\n",
       " (4757, 20984),\n",
       " (2190, 10039),\n",
       " (4085, 9579),\n",
       " (1368, 7128),\n",
       " (4054, 16268),\n",
       " (2564, 15607),\n",
       " (1042, 28319),\n",
       " (4982, 24147),\n",
       " (3780, 15782),\n",
       " (1060, 11572),\n",
       " (1124, 16831),\n",
       " (1060, 10708),\n",
       " (3956, 15152),\n",
       " (5980, 27421),\n",
       " (1853, 10904),\n",
       " (1060, 11338),\n",
       " (1727, 32804),\n",
       " (1401, 14823),\n",
       " (5224, 10957),\n",
       " (3852, 25262),\n",
       " (3852, 28165),\n",
       " (2724, 21854),\n",
       " (2439, 11186),\n",
       " (6057, 6462),\n",
       " (5375, 31350),\n",
       " (5555, 11230),\n",
       " (4982, 27207),\n",
       " (5801, 20967),\n",
       " (380, 28562)]"
      ]
     },
     "execution_count": 39,
     "metadata": {},
     "output_type": "execute_result"
    }
   ],
   "execution_count": 39
  },
  {
   "metadata": {
    "ExecuteTime": {
     "end_time": "2025-07-13T21:43:59.389963Z",
     "start_time": "2025-07-13T21:43:59.295905Z"
    }
   },
   "cell_type": "code",
   "source": [
    "for c, g in top_predictions:\n",
    "    nutrient_name = chemical_le.inverse_transform([c])[0]\n",
    "    gene_symbol = gene_le.inverse_transform([g - num_nutrients])[0]\n",
    "    print(f\"{nutrient_name} → {gene_symbol}\")\n"
   ],
   "id": "966212374ae930df",
   "outputs": [
    {
     "name": "stdout",
     "output_type": "stream",
     "text": [
      "TEMOZOLOMIDE → IFNG\n",
      "CYCLOSPORINE → F3\n",
      "CUPRIC CHLORIDE → CASP3\n",
      "GOLD COMPOUNDS → ESR1\n",
      "LEFLUNOMIDE → CASP8\n",
      "THIRAM → CYP2A6\n",
      "BETA-LAPACHONE → GREB1\n",
      "ROTENONE → MTOR\n",
      "MERCURIC BROMIDE → MMP9\n",
      "7,8-DIHYDRO-7,8-DIHYDROXYBENZO(A)PYRENE 9,10-OXIDE → MTOR\n",
      "ASBESTOS, CROCIDOLITE → GREB1\n",
      "ATRAZINE → BMP2\n",
      "SMOKE → HMMR\n",
      "ENDOSULFAN → BCL2L1\n",
      "URETHANE → IL1R1\n",
      "ANTIRHEUMATIC AGENTS → RPS6KB1\n",
      "ARISTOLOCHIC ACID I → AURKB\n",
      "S-(1,2-DICHLOROVINYL)CYSTEINE → KRT8\n",
      "DI-N-BUTYLPHOSPHORIC ACID → CRYAB\n",
      "ACETAMINOPHEN → CXCR2\n",
      "COBALTOUS CHLORIDE → LPL\n",
      "METHYLEUGENOL → CPT1A\n",
      "ARSENIC → PAX6\n",
      "AVOBENZONE → MCL1\n",
      "SODIUM ARSENITE → DNAJC7\n",
      "K 7174 → KIT\n",
      "SODIUM ARSENITE → KLK10\n",
      "ROTENONE → KDR\n",
      "ATAZANAVIR SULFATE → TP53\n",
      "SEOCALCITOL → SQSTM1\n",
      "OKADAIC ACID → CARD6\n",
      "ANTIRHEUMATIC AGENTS → PIK3R3\n",
      "ATRAZINE → TGFBR2\n",
      "MRK 003 → CYP1B1\n",
      "BETA-LAPACHONE → IDO1\n",
      "SODIUM SELENITE → AREG\n",
      "VALPROIC ACID → TRIO\n",
      "S-(1,2-DICHLOROVINYL)CYSTEINE → F8\n",
      "CADMIUM CHLORIDE → DNAAF1\n",
      "SMOKE → ASCC3\n",
      "PARTICULATE MATTER → RYR1\n",
      "DI-N-BUTYLPHOSPHORIC ACID → EIF2AK2\n",
      "PERFLUORO-N-NONANOIC ACID → MMP14\n",
      "METHACRYLALDEHYDE → TYMS\n",
      "1-METHYL-3-ISOBUTYLXANTHINE → PLA2G4A\n",
      "TOBACCO SMOKE POLLUTION → POLR1C\n",
      "BUTYRALDEHYDE → ANXA2\n",
      "ABRINE → DBF4\n",
      "OKADAIC ACID → TWF1\n",
      "MALATHION → SNAI1\n",
      "ICG 001 → RBBP8\n",
      "TRETINOIN → BCL2L12\n",
      "3-(4-PYRIDYL)-1H-INDOLE → SOD2\n",
      "ESTRADIOL → CDC7\n",
      "COLFORSIN → FAS\n",
      "4-(5-BENZO(1,3)DIOXOL-5-YL-4-PYRIDIN-2-YL-1H-IMIDAZOL-2-YL)BENZAMIDE → ELK1\n",
      "CADMIUM CHLORIDE → PTGR2\n",
      "TOBACCO SMOKE POLLUTION → TMEM50B\n",
      "PERFLUORODECANOIC ACID → SQSTM1\n",
      "ASBESTOS, CROCIDOLITE → UHRF1\n",
      "4-(5-BENZO(1,3)DIOXOL-5-YL-4-PYRIDIN-2-YL-1H-IMIDAZOL-2-YL)BENZAMIDE → GSTZ1\n",
      "CADMIUM CHLORIDE → TXNDC12\n",
      "CADMIUM CHLORIDE → SELENOH\n",
      "TETRABROMOBISPHENOL A → HK2\n",
      "JINFUKANG → ETV1\n",
      "VEHICLE EMISSIONS → AGER\n",
      "FOLIC ACID → TGFB3\n",
      "BENZO(A)PYRENE → ZNF827\n",
      "SILICON DIOXIDE → CS\n",
      "NICKEL → AXL\n",
      "SMOKE → SYNRG\n",
      "PCI 5002 → MMP13\n",
      "CISPLATIN → CHST6\n",
      "METHYLEUGENOL → CDH5\n",
      "ANTIRHEUMATIC AGENTS → ANK2\n",
      "METHOTREXATE → ITGA2\n",
      "DICROTOPHOS → HSPE1\n",
      "ABRINE → SLC7A2\n",
      "PLANT EXTRACTS → PLD2\n",
      "LEAD → IFRD1\n",
      "ACETAMINOPHEN → DIXDC1\n",
      "AFLATOXIN B1 → KLK2\n",
      "ACETAMINOPHEN → CROT\n",
      "MANGANESE → HILPDA\n",
      "TRETINOIN → SDHC\n",
      "CADMIUM CHLORIDE → CTSG\n",
      "ACETAMINOPHEN → DDX39A\n",
      "BISPHENOL A → ZBED1\n",
      "ARCHAZOLID B → H2AX\n",
      "QUERCITRIN → CXCL10\n",
      "LIPOPOLYSACCHARIDES → PYM1\n",
      "LIPOPOLYSACCHARIDES → SLC35B1\n",
      "DORSOMORPHIN → NDRG2\n",
      "DECABROMOBIPHENYL ETHER → DAPK1\n",
      "TRIS(1,3-DICHLORO-2-PROPYL)PHOSPHATE → ACAN\n",
      "S-(1,2-DICHLOROVINYL)CYSTEINE → TRIM13\n",
      "SODIUM ARSENITE → DCAF16\n",
      "PLANT EXTRACTS → SAP30\n",
      "TESTOSTERONE → MLXIPL\n",
      "2-(1H-INDAZOL-4-YL)-6-(4-METHANESULFONYLPIPERAZIN-1-YLMETHYL)-4-MORPHOLIN-4-YLTHIENO(3,2-D)PYRIMIDINE → SNAI1\n"
     ]
    }
   ],
   "execution_count": 40
  },
  {
   "metadata": {},
   "cell_type": "code",
   "outputs": [],
   "execution_count": null,
   "source": "",
   "id": "82137bc3d51e3338"
  }
 ],
 "metadata": {
  "kernelspec": {
   "display_name": "Python 3 (ipykernel)",
   "language": "python",
   "name": "python3"
  },
  "language_info": {
   "codemirror_mode": {
    "name": "ipython",
    "version": 3
   },
   "file_extension": ".py",
   "mimetype": "text/x-python",
   "name": "python",
   "nbconvert_exporter": "python",
   "pygments_lexer": "ipython3",
   "version": "3.11.7"
  }
 },
 "nbformat": 4,
 "nbformat_minor": 5
}
